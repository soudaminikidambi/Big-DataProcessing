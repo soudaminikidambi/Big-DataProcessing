{
  "nbformat": 4,
  "nbformat_minor": 0,
  "metadata": {
    "colab": {
      "provenance": [],
      "include_colab_link": true
    },
    "kernelspec": {
      "name": "python3",
      "display_name": "Python 3"
    },
    "language_info": {
      "name": "python"
    }
  },
  "cells": [
    {
      "cell_type": "markdown",
      "metadata": {
        "id": "view-in-github",
        "colab_type": "text"
      },
      "source": [
        "<a href=\"https://colab.research.google.com/github/soudaminikidambi/Big-DataProcessing/blob/main/PFP_Growth__Code.ipynb\" target=\"_parent\"><img src=\"https://colab.research.google.com/assets/colab-badge.svg\" alt=\"Open In Colab\"/></a>"
      ]
    },
    {
      "cell_type": "markdown",
      "source": [
        "# Importing Libraries"
      ],
      "metadata": {
        "id": "GpAGKaSPW8wg"
      }
    },
    {
      "cell_type": "code",
      "source": [
        "!pip install --quiet mrjob==0.7.4"
      ],
      "metadata": {
        "id": "JjDk9IT1KhDd",
        "colab": {
          "base_uri": "https://localhost:8080/"
        },
        "outputId": "403b8e17-1007-425f-ba66-dd0f0a5eb5e0"
      },
      "execution_count": 1,
      "outputs": [
        {
          "output_type": "stream",
          "name": "stdout",
          "text": [
            "\u001b[?25l\r\u001b[K     |▊                               | 10 kB 14.9 MB/s eta 0:00:01\r\u001b[K     |█▌                              | 20 kB 6.7 MB/s eta 0:00:01\r\u001b[K     |██▎                             | 30 kB 9.6 MB/s eta 0:00:01\r\u001b[K     |███                             | 40 kB 4.4 MB/s eta 0:00:01\r\u001b[K     |███▊                            | 51 kB 4.6 MB/s eta 0:00:01\r\u001b[K     |████▌                           | 61 kB 5.4 MB/s eta 0:00:01\r\u001b[K     |█████▏                          | 71 kB 5.6 MB/s eta 0:00:01\r\u001b[K     |██████                          | 81 kB 6.2 MB/s eta 0:00:01\r\u001b[K     |██████▊                         | 92 kB 4.9 MB/s eta 0:00:01\r\u001b[K     |███████▌                        | 102 kB 5.3 MB/s eta 0:00:01\r\u001b[K     |████████▏                       | 112 kB 5.3 MB/s eta 0:00:01\r\u001b[K     |█████████                       | 122 kB 5.3 MB/s eta 0:00:01\r\u001b[K     |█████████▊                      | 133 kB 5.3 MB/s eta 0:00:01\r\u001b[K     |██████████▍                     | 143 kB 5.3 MB/s eta 0:00:01\r\u001b[K     |███████████▏                    | 153 kB 5.3 MB/s eta 0:00:01\r\u001b[K     |████████████                    | 163 kB 5.3 MB/s eta 0:00:01\r\u001b[K     |████████████▊                   | 174 kB 5.3 MB/s eta 0:00:01\r\u001b[K     |█████████████▍                  | 184 kB 5.3 MB/s eta 0:00:01\r\u001b[K     |██████████████▏                 | 194 kB 5.3 MB/s eta 0:00:01\r\u001b[K     |███████████████                 | 204 kB 5.3 MB/s eta 0:00:01\r\u001b[K     |███████████████▋                | 215 kB 5.3 MB/s eta 0:00:01\r\u001b[K     |████████████████▍               | 225 kB 5.3 MB/s eta 0:00:01\r\u001b[K     |█████████████████▏              | 235 kB 5.3 MB/s eta 0:00:01\r\u001b[K     |██████████████████              | 245 kB 5.3 MB/s eta 0:00:01\r\u001b[K     |██████████████████▋             | 256 kB 5.3 MB/s eta 0:00:01\r\u001b[K     |███████████████████▍            | 266 kB 5.3 MB/s eta 0:00:01\r\u001b[K     |████████████████████▏           | 276 kB 5.3 MB/s eta 0:00:01\r\u001b[K     |████████████████████▉           | 286 kB 5.3 MB/s eta 0:00:01\r\u001b[K     |█████████████████████▋          | 296 kB 5.3 MB/s eta 0:00:01\r\u001b[K     |██████████████████████▍         | 307 kB 5.3 MB/s eta 0:00:01\r\u001b[K     |███████████████████████         | 317 kB 5.3 MB/s eta 0:00:01\r\u001b[K     |███████████████████████▉        | 327 kB 5.3 MB/s eta 0:00:01\r\u001b[K     |████████████████████████▋       | 337 kB 5.3 MB/s eta 0:00:01\r\u001b[K     |█████████████████████████▍      | 348 kB 5.3 MB/s eta 0:00:01\r\u001b[K     |██████████████████████████      | 358 kB 5.3 MB/s eta 0:00:01\r\u001b[K     |██████████████████████████▉     | 368 kB 5.3 MB/s eta 0:00:01\r\u001b[K     |███████████████████████████▋    | 378 kB 5.3 MB/s eta 0:00:01\r\u001b[K     |████████████████████████████▎   | 389 kB 5.3 MB/s eta 0:00:01\r\u001b[K     |█████████████████████████████   | 399 kB 5.3 MB/s eta 0:00:01\r\u001b[K     |█████████████████████████████▉  | 409 kB 5.3 MB/s eta 0:00:01\r\u001b[K     |██████████████████████████████▋ | 419 kB 5.3 MB/s eta 0:00:01\r\u001b[K     |███████████████████████████████▎| 430 kB 5.3 MB/s eta 0:00:01\r\u001b[K     |████████████████████████████████| 439 kB 5.3 MB/s \n",
            "\u001b[?25h"
          ]
        }
      ]
    },
    {
      "cell_type": "code",
      "source": [
        "%pip install mlxtend --upgrade"
      ],
      "metadata": {
        "colab": {
          "base_uri": "https://localhost:8080/"
        },
        "id": "ovRvDEFlrkVE",
        "outputId": "6bf39ceb-5db3-4593-b82f-8d770e498277"
      },
      "execution_count": 2,
      "outputs": [
        {
          "output_type": "stream",
          "name": "stdout",
          "text": [
            "Looking in indexes: https://pypi.org/simple, https://us-python.pkg.dev/colab-wheels/public/simple/\n",
            "Requirement already satisfied: mlxtend in /usr/local/lib/python3.8/dist-packages (0.14.0)\n",
            "Collecting mlxtend\n",
            "  Downloading mlxtend-0.21.0-py2.py3-none-any.whl (1.3 MB)\n",
            "\u001b[K     |████████████████████████████████| 1.3 MB 5.1 MB/s \n",
            "\u001b[?25hRequirement already satisfied: scipy>=1.2.1 in /usr/local/lib/python3.8/dist-packages (from mlxtend) (1.7.3)\n",
            "Requirement already satisfied: joblib>=0.13.2 in /usr/local/lib/python3.8/dist-packages (from mlxtend) (1.2.0)\n",
            "Requirement already satisfied: matplotlib>=3.0.0 in /usr/local/lib/python3.8/dist-packages (from mlxtend) (3.2.2)\n",
            "Requirement already satisfied: pandas>=0.24.2 in /usr/local/lib/python3.8/dist-packages (from mlxtend) (1.3.5)\n",
            "Requirement already satisfied: scikit-learn>=1.0.2 in /usr/local/lib/python3.8/dist-packages (from mlxtend) (1.0.2)\n",
            "Requirement already satisfied: numpy>=1.16.2 in /usr/local/lib/python3.8/dist-packages (from mlxtend) (1.21.6)\n",
            "Requirement already satisfied: setuptools in /usr/local/lib/python3.8/dist-packages (from mlxtend) (57.4.0)\n",
            "Requirement already satisfied: pyparsing!=2.0.4,!=2.1.2,!=2.1.6,>=2.0.1 in /usr/local/lib/python3.8/dist-packages (from matplotlib>=3.0.0->mlxtend) (3.0.9)\n",
            "Requirement already satisfied: kiwisolver>=1.0.1 in /usr/local/lib/python3.8/dist-packages (from matplotlib>=3.0.0->mlxtend) (1.4.4)\n",
            "Requirement already satisfied: cycler>=0.10 in /usr/local/lib/python3.8/dist-packages (from matplotlib>=3.0.0->mlxtend) (0.11.0)\n",
            "Requirement already satisfied: python-dateutil>=2.1 in /usr/local/lib/python3.8/dist-packages (from matplotlib>=3.0.0->mlxtend) (2.8.2)\n",
            "Requirement already satisfied: pytz>=2017.3 in /usr/local/lib/python3.8/dist-packages (from pandas>=0.24.2->mlxtend) (2022.6)\n",
            "Requirement already satisfied: six>=1.5 in /usr/local/lib/python3.8/dist-packages (from python-dateutil>=2.1->matplotlib>=3.0.0->mlxtend) (1.15.0)\n",
            "Requirement already satisfied: threadpoolctl>=2.0.0 in /usr/local/lib/python3.8/dist-packages (from scikit-learn>=1.0.2->mlxtend) (3.1.0)\n",
            "Installing collected packages: mlxtend\n",
            "  Attempting uninstall: mlxtend\n",
            "    Found existing installation: mlxtend 0.14.0\n",
            "    Uninstalling mlxtend-0.14.0:\n",
            "      Successfully uninstalled mlxtend-0.14.0\n",
            "Successfully installed mlxtend-0.21.0\n"
          ]
        }
      ]
    },
    {
      "cell_type": "code",
      "execution_count": 3,
      "metadata": {
        "id": "tvWKT2TBx5pu"
      },
      "outputs": [],
      "source": [
        "import csv\n",
        "import re\n",
        "import time\n",
        "import numpy as np\n",
        "import pandas as pd\n",
        "import matplotlib.pyplot as plt\n",
        "from prettytable import PrettyTable"
      ]
    },
    {
      "cell_type": "code",
      "source": [
        "import mlxtend\n",
        "\n",
        "mlxtend.__version__"
      ],
      "metadata": {
        "colab": {
          "base_uri": "https://localhost:8080/",
          "height": 35
        },
        "id": "FM9lIPoTs0oN",
        "outputId": "faeb516d-2993-465c-edd2-dcaf0e8cc8b6"
      },
      "execution_count": 4,
      "outputs": [
        {
          "output_type": "execute_result",
          "data": {
            "text/plain": [
              "'0.21.0'"
            ],
            "application/vnd.google.colaboratory.intrinsic+json": {
              "type": "string"
            }
          },
          "metadata": {},
          "execution_count": 4
        }
      ]
    },
    {
      "cell_type": "code",
      "source": [
        "from google.colab import drive\n",
        "drive.mount('/content/drive')"
      ],
      "metadata": {
        "id": "rBFPrQ0l0CYI",
        "colab": {
          "base_uri": "https://localhost:8080/"
        },
        "outputId": "d9f6700a-0b88-44c0-96fa-792b903f83c4"
      },
      "execution_count": 5,
      "outputs": [
        {
          "output_type": "stream",
          "name": "stdout",
          "text": [
            "Mounted at /content/drive\n"
          ]
        }
      ]
    },
    {
      "cell_type": "markdown",
      "source": [
        "# Transactions"
      ],
      "metadata": {
        "id": "v-hHg_kjClNs"
      }
    },
    {
      "cell_type": "code",
      "source": [
        "groceries = pd.read_csv(\"/content/drive/My Drive/datasets/Groceries_dataset.csv\")"
      ],
      "metadata": {
        "id": "w5Fi13XPC4Uu"
      },
      "execution_count": 6,
      "outputs": []
    },
    {
      "cell_type": "code",
      "source": [
        "all_transactions = [transaction[1]['itemDescription'].tolist() for transaction in list(groceries.groupby(['Member_number', 'Date']))]"
      ],
      "metadata": {
        "id": "STLH3cZTDb_o"
      },
      "execution_count": 7,
      "outputs": []
    },
    {
      "cell_type": "code",
      "source": [
        "#outFile = \"/content/drive/My Drive/datasets/Transactions.csv\"\n",
        "with open(\"/content/drive/My Drive/datasets/Transactions.csv\", 'w', encoding='UTF8', newline='') as f:\n",
        "    writer = csv.writer(f)\n",
        "\n",
        "    writer.writerows(all_transactions)\n",
        "    "
      ],
      "metadata": {
        "id": "znNHVSn5D0Lq"
      },
      "execution_count": 8,
      "outputs": []
    },
    {
      "cell_type": "code",
      "source": [
        "all_transactions[0:5]"
      ],
      "metadata": {
        "colab": {
          "base_uri": "https://localhost:8080/"
        },
        "id": "52Yi4lkBDowE",
        "outputId": "88919bf9-d603-4cb3-eac5-f43f46f1f956"
      },
      "execution_count": 9,
      "outputs": [
        {
          "output_type": "execute_result",
          "data": {
            "text/plain": [
              "[['whole milk', 'pastry', 'salty snack'],\n",
              " ['sausage', 'whole milk', 'semi-finished bread', 'yogurt'],\n",
              " ['soda', 'pickled vegetables'],\n",
              " ['canned beer', 'misc. beverages'],\n",
              " ['sausage', 'hygiene articles']]"
            ]
          },
          "metadata": {},
          "execution_count": 9
        }
      ]
    },
    {
      "cell_type": "markdown",
      "source": [
        "# Parallel Counting"
      ],
      "metadata": {
        "id": "59qyWLy0iXnz"
      }
    },
    {
      "cell_type": "code",
      "source": [
        "%%file parallel_count.py\n",
        "from mrjob.job import MRJob\n",
        "import re\n",
        "\n",
        "class ParallelCount(MRJob):\n",
        "    def mapper(self, _, line):\n",
        "      record = line.split(\",\")\n",
        "      yield record[2],1\n",
        "    def reducer(self, item, vals):\n",
        "      yield item, sum(vals)\n",
        "\n",
        "if __name__ == '__main__':\n",
        "     ParallelCount.run()"
      ],
      "metadata": {
        "colab": {
          "base_uri": "https://localhost:8080/"
        },
        "id": "aMPA6M2TKUOw",
        "outputId": "b77a2b7c-abf0-485b-f09a-84cf44637459"
      },
      "execution_count": null,
      "outputs": [
        {
          "output_type": "stream",
          "name": "stdout",
          "text": [
            "Writing parallel_count.py\n"
          ]
        }
      ]
    },
    {
      "cell_type": "code",
      "source": [
        "!python parallel_count.py \"/content/drive/My Drive/datasets/Groceries_dataset.csv\""
      ],
      "metadata": {
        "colab": {
          "base_uri": "https://localhost:8080/"
        },
        "id": "so4X0GLmNA03",
        "outputId": "3c49d1a2-fd28-40bb-fc50-afa9e51eab8c"
      },
      "execution_count": null,
      "outputs": [
        {
          "output_type": "stream",
          "name": "stdout",
          "text": [
            "No configs found; falling back on auto-configuration\n",
            "No configs specified for inline runner\n",
            "Creating temp directory /tmp/parallel_count.root.20221218.004543.334867\n",
            "Running step 1 of 1...\n",
            "job output is in /tmp/parallel_count.root.20221218.004543.334867/output\n",
            "Streaming final output from /tmp/parallel_count.root.20221218.004543.334867/output...\n",
            "\"dishes\"\t135\n",
            "\"dog food\"\t67\n",
            "\"domestic eggs\"\t566\n",
            "\"female sanitary products\"\t40\n",
            "\"finished products\"\t64\n",
            "\"fish\"\t29\n",
            "\"flour\"\t146\n",
            "\"flower (seeds)\"\t70\n",
            "\"flower soil/fertilizer\"\t16\n",
            "\"frankfurter\"\t580\n",
            "\"frozen chicken\"\t5\n",
            "\"frozen dessert\"\t92\n",
            "\"frozen fish\"\t102\n",
            "\"frozen fruits\"\t11\n",
            "\"frozen meals\"\t252\n",
            "\"frozen potato products\"\t72\n",
            "\"frozen vegetables\"\t425\n",
            "\"fruit/vegetable juice\"\t518\n",
            "\"grapes\"\t220\n",
            "\"hair spray\"\t9\n",
            "\"ham\"\t256\n",
            "\"hamburger meat\"\t327\n",
            "\"hard cheese\"\t220\n",
            "\"herbs\"\t159\n",
            "\"honey\"\t13\n",
            "\"house keeping products\"\t45\n",
            "\"hygiene articles\"\t208\n",
            "\"ice cream\"\t227\n",
            "\"instant coffee\"\t61\n",
            "\"itemDescription\"\t1\n",
            "\"jam\"\t34\n",
            "\"ketchup\"\t32\n",
            "\"kitchen towels\"\t30\n",
            "\"kitchen utensil\"\t1\n",
            "\"light bulbs\"\t29\n",
            "\"liqueur\"\t9\n",
            "\"liquor (appetizer)\"\t67\n",
            "\"liquor\"\t103\n",
            "\"liver loaf\"\t50\n",
            "\"long life bakery product\"\t269\n",
            "\"make up remover\"\t5\n",
            "\"male cosmetics\"\t37\n",
            "\"margarine\"\t491\n",
            "\"mayonnaise\"\t75\n",
            "\"meat spreads\"\t35\n",
            "\"meat\"\t254\n",
            "\"misc. beverages\"\t238\n",
            "\"mustard\"\t92\n",
            "\"napkins\"\t335\n",
            "\"newspapers\"\t596\n",
            "\"nut snack\"\t22\n",
            "\"nuts/prunes\"\t33\n",
            "\"oil\"\t225\n",
            "\"onions\"\t305\n",
            "\"organic products\"\t10\n",
            "\"organic sausage\"\t22\n",
            "\"other vegetables\"\t1898\n",
            "\"packaged fruit/vegetables\"\t128\n",
            "\"pasta\"\t121\n",
            "\"pastry\"\t785\n",
            "\"pet care\"\t85\n",
            "\"photo/film\"\t79\n",
            "\"pickled vegetables\"\t134\n",
            "\"pip fruit\"\t744\n",
            "\"popcorn\"\t48\n",
            "\"pork\"\t566\n",
            "\"pot plants\"\t118\n",
            "\"potato products\"\t23\n",
            "\"preservation products\"\t1\n",
            "\"processed cheese\"\t152\n",
            "\"prosecco\"\t19\n",
            "\"pudding powder\"\t17\n",
            "\"ready soups\"\t15\n",
            "\"red/blush wine\"\t157\n",
            "\"rice\"\t49\n",
            "\"roll products \"\t82\n",
            "\"rolls/buns\"\t1716\n",
            "\"root vegetables\"\t1071\n",
            "\"rubbing alcohol\"\t5\n",
            "\"rum\"\t32\n",
            "\"salad dressing\"\t6\n",
            "\"salt\"\t89\n",
            "\"salty snack\"\t283\n",
            "\"sauces\"\t44\n",
            "\"sausage\"\t924\n",
            "\"seasonal products\"\t106\n",
            "\"semi-finished bread\"\t142\n",
            "\"shopping bags\"\t731\n",
            "\"skin care\"\t20\n",
            "\"sliced cheese\"\t212\n",
            "\"snack products\"\t27\n",
            "\"soap\"\t20\n",
            "\"soda\"\t1514\n",
            "\"soft cheese\"\t152\n",
            "\"softener\"\t41\n",
            "\"soups\"\t48\n",
            "\"sparkling wine\"\t46\n",
            "\"specialty bar\"\t210\n",
            "\"specialty cheese\"\t72\n",
            "\"specialty chocolate\"\t240\n",
            "\"specialty fat\"\t29\n",
            "\"specialty vegetables\"\t11\n",
            "\"spices\"\t40\n",
            "\"spread cheese\"\t100\n",
            "\"sugar\"\t265\n",
            "\"sweet spreads\"\t69\n",
            "\"syrup\"\t21\n",
            "\"tea\"\t27\n",
            "\"tidbits\"\t22\n",
            "\"toilet cleaner\"\t5\n",
            "\"tropical fruit\"\t1032\n",
            "\"turkey\"\t80\n",
            "\"vinegar\"\t51\n",
            "\"waffles\"\t280\n",
            "\"whipped/sour cream\"\t662\n",
            "\"whisky\"\t8\n",
            "\"white bread\"\t362\n",
            "\"white wine\"\t176\n",
            "\"whole milk\"\t2502\n",
            "\"yogurt\"\t1334\n",
            "\"zwieback\"\t60\n",
            "\"Instant food products\"\t60\n",
            "\"UHT-milk\"\t323\n",
            "\"abrasive cleaner\"\t22\n",
            "\"artif. sweetener\"\t29\n",
            "\"baby cosmetics\"\t3\n",
            "\"bags\"\t4\n",
            "\"baking powder\"\t122\n",
            "\"bathroom cleaner\"\t17\n",
            "\"beef\"\t516\n",
            "\"berries\"\t327\n",
            "\"beverages\"\t251\n",
            "\"bottled beer\"\t687\n",
            "\"bottled water\"\t933\n",
            "\"brandy\"\t38\n",
            "\"brown bread\"\t571\n",
            "\"butter milk\"\t263\n",
            "\"butter\"\t534\n",
            "\"cake bar\"\t93\n",
            "\"candles\"\t66\n",
            "\"candy\"\t219\n",
            "\"canned beer\"\t717\n",
            "\"canned fish\"\t116\n",
            "\"canned fruit\"\t21\n",
            "\"canned vegetables\"\t82\n",
            "\"cat food\"\t177\n",
            "\"cereals\"\t42\n",
            "\"chewing gum\"\t181\n",
            "\"chicken\"\t422\n",
            "\"chocolate marshmallow\"\t60\n",
            "\"chocolate\"\t357\n",
            "\"citrus fruit\"\t812\n",
            "\"cleaner\"\t31\n",
            "\"cling film/bags\"\t74\n",
            "\"cocoa drinks\"\t16\n",
            "\"coffee\"\t476\n",
            "\"condensed milk\"\t98\n",
            "\"cooking chocolate\"\t15\n",
            "\"cookware\"\t17\n",
            "\"cream cheese \"\t358\n",
            "\"cream\"\t12\n",
            "\"curd cheese\"\t46\n",
            "\"curd\"\t514\n",
            "\"decalcifier\"\t9\n",
            "\"dental care\"\t33\n",
            "\"dessert\"\t356\n",
            "\"detergent\"\t130\n",
            "\"dish cleaner\"\t73\n",
            "Removing temp directory /tmp/parallel_count.root.20221218.004543.334867...\n"
          ]
        }
      ]
    },
    {
      "cell_type": "markdown",
      "source": [
        "# Formation of FList and GList using Parallel Counting"
      ],
      "metadata": {
        "id": "-wyrRMs3ieDp"
      }
    },
    {
      "cell_type": "code",
      "source": [
        "%%file parallel_count.py\n",
        "from mrjob.job import MRJob\n",
        "from mrjob.step import MRStep\n",
        "import re\n",
        "\n",
        "class ParallelCount1(MRJob):\n",
        "    gr=[]\n",
        "    def mapper(self, _, line):\n",
        "      record = line.split(\",\")\n",
        "      yield record[2],1\n",
        "    \n",
        "    def reducer_init(self):\n",
        "      self.f = []\n",
        "    \n",
        "    def reducer(self,item,vals):\n",
        "      n = 0\n",
        "      for i in vals:\n",
        "        n = n+1\n",
        "      self.f.append([item,n])\n",
        "    \n",
        "    def reducer_final(self):\n",
        "      yield 1,self.f\n",
        "\n",
        "    def mapper_init_1(self):\n",
        "      g=[]\n",
        "      self.g=g\n",
        "    \n",
        "    def mapper_1(self,item,vals):\n",
        "      for i in vals:\n",
        "        self.g.append(i[0])\n",
        "      yield item,self.g\n",
        "\n",
        "    def reducer_init_1(self):\n",
        "      flist=[]\n",
        "      self.flist=flist\n",
        "    \n",
        "    def reducer_1(self,item,vals):\n",
        "      for i in vals:\n",
        "        self.flist.append(i)\n",
        "      yield 1,self.flist\n",
        "\n",
        "    def mapper_init_2(self):\n",
        "      glist=[]\n",
        "      self.glist=glist\n",
        "      Q = 8\n",
        "      self.Q=Q\n",
        "    \n",
        "    def mapper_2(self,item,vals):\n",
        "      c=0\n",
        "      a=[]\n",
        "      #gr=[]\n",
        "      for i in vals[0]:\n",
        "        if(c<self.Q):\n",
        "          a.append(i)\n",
        "        else:\n",
        "          if(c%(self.Q)==0):\n",
        "            self.glist.append([int(c/self.Q), a])\n",
        "            a=[]\n",
        "            a.append(i)\n",
        "          else:\n",
        "            a.append(i)\n",
        "        c=c+1\n",
        "      if(len(a)!=0):\n",
        "        self.glist.append([int(c/self.Q)+1, a])\n",
        "\n",
        "      for i in self.glist:\n",
        "        yield i[0],i\n",
        "    \n",
        "    def steps(self):\n",
        "        return [\n",
        "            MRStep(mapper=self.mapper,reducer_init = self.reducer_init,reducer=self.reducer,reducer_final = self.reducer_final),\n",
        "            MRStep(mapper_init=self.mapper_init_1,mapper=self.mapper_1,reducer_init = self.reducer_init_1,reducer=self.reducer_1),\n",
        "            MRStep(mapper_init=self.mapper_init_2,mapper=self.mapper_2),\n",
        "        ]\n",
        "\n",
        "if __name__ == '__main__':\n",
        "    inputFile = \"/content/drive/My Drive/datasets/Groceries_dataset.csv\"\n",
        "    outFile = \"/content/drive/My Drive/datasets/GLIST.csv\"\n",
        "    mr_job = ParallelCount1(args=[inputFile])\n",
        "    with mr_job.make_runner() as runner:\n",
        "      runner.run()\n",
        "      f = open(outFile, \"w\") \n",
        "      for key, value in mr_job.parse_output(runner.cat_output()):\n",
        "        s = f'{value}'\n",
        "        s = s[1:-2]\n",
        "        s = s.replace('[', '')\n",
        "        s = s.replace(\"'\", '')\n",
        "        print(s, file = f)\n",
        "      f.close()\n",
        "      print(\"Done!\")\n"
      ],
      "metadata": {
        "colab": {
          "base_uri": "https://localhost:8080/"
        },
        "id": "ciJcbhTf1qeh",
        "outputId": "4c367d92-5d4c-46ea-ab02-07bfde0267c9"
      },
      "execution_count": 10,
      "outputs": [
        {
          "output_type": "stream",
          "name": "stdout",
          "text": [
            "Writing parallel_count.py\n"
          ]
        }
      ]
    },
    {
      "cell_type": "code",
      "source": [
        "!python parallel_count.py "
      ],
      "metadata": {
        "colab": {
          "base_uri": "https://localhost:8080/"
        },
        "id": "D-tIpN6v2AtS",
        "outputId": "ee4b79d5-1731-45f9-e9e2-7fb07c4fd15f"
      },
      "execution_count": 11,
      "outputs": [
        {
          "output_type": "stream",
          "name": "stdout",
          "text": [
            "No configs specified for inline runner\n",
            "Done!\n"
          ]
        }
      ]
    },
    {
      "cell_type": "markdown",
      "source": [
        "# Top k most recommended items for each item."
      ],
      "metadata": {
        "id": "t2XllCDYiyEK"
      }
    },
    {
      "cell_type": "code",
      "source": [
        "%%file parallel_fp.py\n",
        "import pandas as pd\n",
        "import heapq as heap\n",
        "from mrjob.job import MRJob\n",
        "from mrjob.step import MRStep\n",
        "from mlxtend.preprocessing import TransactionEncoder\n",
        "from mlxtend.frequent_patterns import fpgrowth\n",
        "\n",
        "tempFile = \"/content/drive/My Drive/datasets/GLIST.csv\"\n",
        "\n",
        "class ParallelFP(MRJob):\n",
        "\n",
        "    def mapper_init(self):\n",
        "      f = open(tempFile, 'r')\n",
        "      lines = f.readlines()\n",
        "      dep = {}\n",
        "      a=[]\n",
        "      for line in lines:\n",
        "        line=line[:-1]\n",
        "        record = line.split(',')\n",
        "        a=[]\n",
        "        for i in range(1,len(record)):\n",
        "          a.append(record[i])\n",
        "          a[-1]=a[-1][1:]\n",
        "        dep[record[0]]=a\n",
        "      self.dep = dep\n",
        "\n",
        "    def mapper(self, _, line):\n",
        "      record = line.split(\",\")\n",
        "      dep=self.dep\n",
        "      for x in range(len(record)):\n",
        "        a=[]\n",
        "        for i in dep:\n",
        "          if record[x] in dep[i]:\n",
        "            a.append(record[x])\n",
        "            for j in range(x+1,len(record)):\n",
        "              if record[j] in dep[i]:\n",
        "                a.append(record[j])\n",
        "            yield i,a\n",
        "\n",
        "    def reducer(self,item,vals):\n",
        "      x=[]\n",
        "      for i in vals:\n",
        "        x.append(i)\n",
        "      yield item,x\n",
        "\n",
        "    def reducer_1(self,item,vals):\n",
        "      for i in vals:\n",
        "        trans_encoder = TransactionEncoder() # Instanciate the encoder\n",
        "        trans_encoder_matrix = trans_encoder.fit(i).transform(i)\n",
        "        trans_encoder_matrix = pd.DataFrame(trans_encoder_matrix, columns=trans_encoder.columns_)\n",
        "        res=fpgrowth(trans_encoder_matrix,min_support=0.0000001, use_colnames=True)\n",
        "        support = []\n",
        "        item_set = []\n",
        "        item_dict = {}\n",
        "        for i in res.index:\n",
        "          support.append(float(res['support'][i]))\n",
        "          item_set.append(list(res['itemsets'][i]))\n",
        "          item_dict[support[-1]]=item_set[-1]\n",
        "        yield item, item_dict      \n",
        "\n",
        "    def mapper_init_2(self):\n",
        "      self.l=[]\n",
        "\n",
        "    def mapper_2(self,item,vals):\n",
        "      for i in vals:\n",
        "        heap.heappush(self.l,(float(i),vals[i]))\n",
        "        if(len(self.l)>100):\n",
        "          heap.heappop(self.l)\n",
        "    \n",
        "    def mapper_final_2(self):\n",
        "      for i in self.l:\n",
        "        yield None, i\n",
        "\n",
        "    def reducer_init_2(self):\n",
        "        self.l=[]\n",
        "\n",
        "    def reducer_2(self,item,vals):\n",
        "      l1=self.l\n",
        "      for i in vals:\n",
        "        heap.heappush(l1,i)\n",
        "        if(len(l1)>100):\n",
        "          heap.heappop(l1)\n",
        "    \n",
        "    def reducer_final_2(self):\n",
        "      self.l.sort(reverse=True)\n",
        "      for i in self.l:\n",
        "        yield  None,(i[0], i[1])\n",
        "\n",
        "    def mapper_init_3(self):\n",
        "      self.l=[]\n",
        "\n",
        "    def mapper_3(self,item,vals):\n",
        "      for i in range(len(vals[1])):\n",
        "        yield vals[1][i], vals\n",
        "\n",
        "    def reducer_3(self,item,vals):\n",
        "      for i in vals:\n",
        "        yield item,i\n",
        "\n",
        "    def steps(self):\n",
        "        return [\n",
        "            MRStep(mapper_init=self.mapper_init,mapper=self.mapper,reducer=self.reducer),\n",
        "            MRStep(reducer=self.reducer_1),\n",
        "            MRStep(mapper_init=self.mapper_init_2,mapper = self.mapper_2,mapper_final = self.mapper_final_2,reducer_init=self.reducer_init_2,reducer = self.reducer_2,reducer_final=self.reducer_final_2),\n",
        "            MRStep(mapper_init=self.mapper_init_3,mapper = self.mapper_3,reducer = self.reducer_3,)\n",
        "        ]\n",
        "\n",
        "if __name__ == '__main__':\n",
        "    ParallelFP.run()"
      ],
      "metadata": {
        "colab": {
          "base_uri": "https://localhost:8080/"
        },
        "id": "jnkwEpxYi0mq",
        "outputId": "378b63f7-f778-4cf4-d08b-579722ab2bba"
      },
      "execution_count": 12,
      "outputs": [
        {
          "output_type": "stream",
          "name": "stdout",
          "text": [
            "Writing parallel_fp.py\n"
          ]
        }
      ]
    },
    {
      "cell_type": "code",
      "source": [
        "!python parallel_fp.py \"/content/drive/My Drive/datasets/Transactions.csv\""
      ],
      "metadata": {
        "colab": {
          "base_uri": "https://localhost:8080/"
        },
        "id": "gfGrdxFSrRlT",
        "outputId": "034df061-5e91-4a6b-b765-da72049aa65e"
      },
      "execution_count": 13,
      "outputs": [
        {
          "output_type": "stream",
          "name": "stdout",
          "text": [
            "No configs found; falling back on auto-configuration\n",
            "No configs specified for inline runner\n",
            "Creating temp directory /tmp/parallel_fp.root.20221218.084439.727465\n",
            "Running step 1 of 4...\n",
            "Running step 2 of 4...\n",
            "Running step 3 of 4...\n",
            "Running step 4 of 4...\n",
            "job output is in /tmp/parallel_fp.root.20221218.084439.727465/output\n",
            "Streaming final output from /tmp/parallel_fp.root.20221218.084439.727465/output...\n",
            "\"frozen potato products\"\t[0.06725663716814159, [\"frozen potato products\"]]\n",
            "\"frozen vegetables\"\t[0.21087160262417995, [\"frozen vegetables\"]]\n",
            "\"frozen vegetables\"\t[0.005623242736644799, [\"frozen vegetables\", \"fruit/vegetable juice\"]]\n",
            "\"frozen vegetables\"\t[0.0032802249297094657, [\"grapes\", \"frozen vegetables\"]]\n",
            "\"frozen vegetables\"\t[0.0014058106841611997, [\"ham\", \"frozen vegetables\"]]\n",
            "\"fruit/vegetable juice\"\t[0.25257731958762886, [\"fruit/vegetable juice\"]]\n",
            "\"fruit/vegetable juice\"\t[0.005623242736644799, [\"frozen vegetables\", \"fruit/vegetable juice\"]]\n",
            "\"fruit/vegetable juice\"\t[0.0028116213683223993, [\"hard cheese\", \"fruit/vegetable juice\"]]\n",
            "\"fruit/vegetable juice\"\t[0.0023430178069353325, [\"herbs\", \"fruit/vegetable juice\"]]\n",
            "\"fruit/vegetable juice\"\t[0.0018744142455482662, [\"ham\", \"fruit/vegetable juice\"]]\n",
            "\"grapes\"\t[0.10731021555763824, [\"grapes\"]]\n",
            "\"grapes\"\t[0.0032802249297094657, [\"grapes\", \"frozen vegetables\"]]\n",
            "\"grapes\"\t[0.00046860356138706655, [\"ham\", \"grapes\"]]\n",
            "\"hair spray\"\t[0.004217432052483599, [\"hair spray\"]]\n",
            "\"ham\"\t[0.11996251171508904, [\"ham\"]]\n",
            "\"ham\"\t[0.0018744142455482662, [\"ham\", \"fruit/vegetable juice\"]]\n",
            "\"ham\"\t[0.0014058106841611997, [\"ham\", \"frozen vegetables\"]]\n",
            "\"ham\"\t[0.0009372071227741331, [\"ham\", \"hamburger meat\"]]\n",
            "\"ham\"\t[0.00046860356138706655, [\"ham\", \"grapes\"]]\n",
            "\"hamburger meat\"\t[0.15510777881911902, [\"hamburger meat\"]]\n",
            "\"hamburger meat\"\t[0.0009372071227741331, [\"ham\", \"hamburger meat\"]]\n",
            "\"hard cheese\"\t[0.10918462980318651, [\"hard cheese\"]]\n",
            "\"hard cheese\"\t[0.0028116213683223993, [\"hard cheese\", \"fruit/vegetable juice\"]]\n",
            "\"herbs\"\t[0.07778819119025304, [\"herbs\"]]\n",
            "\"herbs\"\t[0.0023430178069353325, [\"herbs\", \"fruit/vegetable juice\"]]\n",
            "\"honey\"\t[0.020967741935483872, [\"honey\"]]\n",
            "\"house keeping products\"\t[0.07741935483870968, [\"house keeping products\"]]\n",
            "\"house keeping products\"\t[0.0032258064516129032, [\"house keeping products\", \"jam\"]]\n",
            "\"hygiene articles\"\t[0.34516129032258064, [\"hygiene articles\"]]\n",
            "\"hygiene articles\"\t[0.0064516129032258064, [\"ice cream\", \"hygiene articles\"]]\n",
            "\"ice cream\"\t[0.36774193548387096, [\"ice cream\"]]\n",
            "\"ice cream\"\t[0.0064516129032258064, [\"ice cream\", \"hygiene articles\"]]\n",
            "\"ice cream\"\t[0.0016129032258064516, [\"ice cream\", \"jam\"]]\n",
            "\"instant coffee\"\t[0.1, [\"instant coffee\"]]\n",
            "\"jam\"\t[0.056451612903225805, [\"jam\"]]\n",
            "\"jam\"\t[0.0032258064516129032, [\"house keeping products\", \"jam\"]]\n",
            "\"jam\"\t[0.0016129032258064516, [\"ice cream\", \"jam\"]]\n",
            "\"ketchup\"\t[0.05161290322580645, [\"ketchup\"]]\n",
            "\"light bulbs\"\t[0.053763440860215055, [\"light bulbs\"]]\n",
            "\"light bulbs\"\t[0.0035842293906810036, [\"light bulbs\", \"long life bakery product\"]]\n",
            "\"light bulbs\"\t[0.0017921146953405018, [\"liquor (appetizer)\", \"light bulbs\"]]\n",
            "\"liqueur\"\t[0.016129032258064516, [\"liqueur\"]]\n",
            "\"liquor (appetizer)\"\t[0.12186379928315412, [\"liquor (appetizer)\"]]\n",
            "\"liquor (appetizer)\"\t[0.0017921146953405018, [\"liquor (appetizer)\", \"light bulbs\"]]\n",
            "\"liquor\"\t[0.1881720430107527, [\"liquor\"]]\n",
            "\"liquor\"\t[0.005376344086021506, [\"long life bakery product\", \"liquor\"]]\n",
            "\"liver loaf\"\t[0.0913978494623656, [\"liver loaf\"]]\n",
            "\"long life bakery product\"\t[0.492831541218638, [\"long life bakery product\"]]\n",
            "\"long life bakery product\"\t[0.005376344086021506, [\"long life bakery product\", \"liquor\"]]\n",
            "\"long life bakery product\"\t[0.0035842293906810036, [\"light bulbs\", \"long life bakery product\"]]\n",
            "\"make up remover\"\t[0.004074979625101874, [\"make up remover\"]]\n",
            "\"male cosmetics\"\t[0.03178484107579462, [\"male cosmetics\"]]\n",
            "\"male cosmetics\"\t[0.0016299918500407497, [\"meat\", \"male cosmetics\"]]\n",
            "\"margarine\"\t[0.4091279543602282, [\"margarine\"]]\n",
            "\"margarine\"\t[0.0057049714751426246, [\"meat\", \"margarine\"]]\n",
            "\"margarine\"\t[0.004889975550122249, [\"margarine\", \"misc. beverages\"]]\n",
            "\"margarine\"\t[0.0024449877750611247, [\"margarine\", \"meat spreads\"]]\n",
            "\"margarine\"\t[0.0008149959250203749, [\"meat\", \"margarine\", \"meat spreads\"]]\n",
            "\"mayonnaise\"\t[0.06438467807660962, [\"mayonnaise\"]]\n",
            "\"meat spreads\"\t[0.03015484922575387, [\"meat spreads\"]]\n",
            "\"meat spreads\"\t[0.0024449877750611247, [\"margarine\", \"meat spreads\"]]\n",
            "\"meat spreads\"\t[0.0008149959250203749, [\"meat\", \"margarine\", \"meat spreads\"]]\n",
            "\"meat\"\t[0.2078239608801956, [\"meat\"]]\n",
            "\"meat\"\t[0.0057049714751426246, [\"meat\", \"margarine\"]]\n",
            "\"meat\"\t[0.0032599837000814994, [\"meat\", \"misc. beverages\"]]\n",
            "\"meat\"\t[0.0016299918500407497, [\"meat\", \"male cosmetics\"]]\n",
            "\"meat\"\t[0.0008149959250203749, [\"meat\", \"margarine\", \"meat spreads\"]]\n",
            "\"misc. beverages\"\t[0.2013039934800326, [\"misc. beverages\"]]\n",
            "\"misc. beverages\"\t[0.004889975550122249, [\"margarine\", \"misc. beverages\"]]\n",
            "\"misc. beverages\"\t[0.0032599837000814994, [\"meat\", \"misc. beverages\"]]\n",
            "\"mustard\"\t[0.07660961695191525, [\"mustard\"]]\n",
            "\"napkins\"\t[0.2248062015503876, [\"napkins\"]]\n",
            "\"napkins\"\t[0.00904392764857881, [\"newspapers\", \"napkins\"]]\n",
            "\"napkins\"\t[0.002583979328165375, [\"onions\", \"napkins\"]]\n",
            "\"napkins\"\t[0.0012919896640826874, [\"nut snack\", \"napkins\"]]\n",
            "\"newspapers\"\t[0.39341085271317827, [\"newspapers\"]]\n",
            "\"newspapers\"\t[0.00904392764857881, [\"newspapers\", \"napkins\"]]\n",
            "\"newspapers\"\t[0.001937984496124031, [\"newspapers\", \"oil\"]]\n",
            "\"newspapers\"\t[0.0006459948320413437, [\"newspapers\", \"organic products\"]]\n",
            "\"nut snack\"\t[0.015503875968992248, [\"nut snack\"]]\n",
            "\"nut snack\"\t[0.0012919896640826874, [\"nut snack\", \"napkins\"]]\n",
            "\"nuts/prunes\"\t[0.02131782945736434, [\"nuts/prunes\"]]\n",
            "\"oil\"\t[0.14857881136950904, [\"oil\"]]\n",
            "\"oil\"\t[0.003229974160206718, [\"oil\", \"onions\"]]\n",
            "\"oil\"\t[0.001937984496124031, [\"newspapers\", \"oil\"]]\n",
            "\"onions\"\t[0.2009043927648579, [\"onions\"]]\n",
            "\"onions\"\t[0.003229974160206718, [\"oil\", \"onions\"]]\n",
            "\"onions\"\t[0.002583979328165375, [\"onions\", \"napkins\"]]\n",
            "\"organic products\"\t[0.0071059431524547806, [\"organic products\"]]\n",
            "\"organic products\"\t[0.0006459948320413437, [\"newspapers\", \"organic products\"]]\n",
            "\"organic sausage\"\t[0.014211886304909561, [\"organic sausage\"]]\n",
            "\"other vegetables\"\t[1.0, [\"other vegetables\"]]\n",
            "\"dishes\"\t[0.12444046553267682, [\"dishes\"]]\n",
            "\"dishes\"\t[0.0017905102954341987, [\"dishes\", \"finished products\"]]\n",
            "\"dog food\"\t[0.06266786034019696, [\"dog food\"]]\n",
            "\"dog food\"\t[0.0008952551477170994, [\"dog food\", \"finished products\"]]\n",
            "\"domestic eggs\"\t[0.5174574753804835, [\"domestic eggs\"]]\n",
            "\"domestic eggs\"\t[0.0035810205908683975, [\"domestic eggs\", \"flower (seeds)\"]]\n",
            "\"domestic eggs\"\t[0.0026857654431512983, [\"domestic eggs\", \"finished products\"]]\n",
            "\"female sanitary products\"\t[0.03670546105640107, [\"female sanitary products\"]]\n",
            "\"finished products\"\t[0.05729632945389436, [\"finished products\"]]\n",
            "\"finished products\"\t[0.0026857654431512983, [\"domestic eggs\", \"finished products\"]]\n",
            "\"finished products\"\t[0.0017905102954341987, [\"dishes\", \"finished products\"]]\n",
            "\"finished products\"\t[0.0008952551477170994, [\"dog food\", \"finished products\"]]\n",
            "\"fish\"\t[0.025962399283795883, [\"fish\"]]\n",
            "\"flour\"\t[0.13339301700984782, [\"flour\"]]\n",
            "\"flower (seeds)\"\t[0.06714413607878246, [\"flower (seeds)\"]]\n",
            "\"flower (seeds)\"\t[0.0035810205908683975, [\"domestic eggs\", \"flower (seeds)\"]]\n",
            "\"flower soil/fertilizer\"\t[0.01504424778761062, [\"flower soil/fertilizer\"]]\n",
            "\"flower soil/fertilizer\"\t[0.0008849557522123894, [\"flower soil/fertilizer\", \"frankfurter\"]]\n",
            "\"frankfurter\"\t[0.5141592920353982, [\"frankfurter\"]]\n",
            "\"frankfurter\"\t[0.005309734513274336, [\"frozen meals\", \"frankfurter\"]]\n",
            "\"frankfurter\"\t[0.0035398230088495575, [\"frozen dessert\", \"frankfurter\"]]\n",
            "\"frankfurter\"\t[0.0008849557522123894, [\"flower soil/fertilizer\", \"frankfurter\"]]\n",
            "\"frozen chicken\"\t[0.004424778761061947, [\"frozen chicken\"]]\n",
            "\"frozen dessert\"\t[0.08672566371681416, [\"frozen dessert\"]]\n",
            "\"frozen dessert\"\t[0.0035398230088495575, [\"frozen dessert\", \"frankfurter\"]]\n",
            "\"frozen fish\"\t[0.09380530973451327, [\"frozen fish\"]]\n",
            "\"frozen fruits\"\t[0.009734513274336283, [\"frozen fruits\"]]\n",
            "\"frozen meals\"\t[0.22831858407079647, [\"frozen meals\"]]\n",
            "\"frozen meals\"\t[0.005309734513274336, [\"frozen meals\", \"frankfurter\"]]\n",
            "Removing temp directory /tmp/parallel_fp.root.20221218.084439.727465...\n"
          ]
        }
      ]
    },
    {
      "cell_type": "markdown",
      "source": [
        "# Top 50 most recommended items of grocery store"
      ],
      "metadata": {
        "id": "JzT61YuypYpp"
      }
    },
    {
      "cell_type": "code",
      "source": [
        "%%file parallel_fp.py\n",
        "import pandas as pd\n",
        "import heapq as heap\n",
        "from mrjob.job import MRJob\n",
        "from mrjob.step import MRStep\n",
        "from mlxtend.preprocessing import TransactionEncoder\n",
        "from mlxtend.frequent_patterns import fpgrowth\n",
        "\n",
        "tempFile = \"/content/drive/My Drive/datasets/GLIST.csv\"\n",
        "\n",
        "class ParallelFP(MRJob):\n",
        "\n",
        "    def mapper_init(self):\n",
        "      f = open(tempFile, 'r')\n",
        "      lines = f.readlines()\n",
        "      dep = {}\n",
        "      a=[]\n",
        "      for line in lines:\n",
        "        line=line[:-1]\n",
        "        record = line.split(',')\n",
        "        a=[]\n",
        "        for i in range(1,len(record)):\n",
        "          a.append(record[i])\n",
        "          a[-1]=a[-1][1:]\n",
        "        dep[record[0]]=a\n",
        "      self.dep = dep\n",
        "\n",
        "    def mapper(self, _, line):\n",
        "      record = line.split(\",\")\n",
        "      dep=self.dep\n",
        "      for x in range(len(record)):\n",
        "        a=[]\n",
        "        for i in dep:\n",
        "          if record[x] in dep[i]:\n",
        "            a.append(record[x])\n",
        "            for j in range(x+1,len(record)):\n",
        "              if record[j] in dep[i]:\n",
        "                a.append(record[j])\n",
        "            yield i,a\n",
        "\n",
        "    def reducer(self,item,vals):\n",
        "      x=[]\n",
        "      for i in vals:\n",
        "        x.append(i)\n",
        "      yield item,x\n",
        "\n",
        "    def reducer_1(self,item,vals):\n",
        "      for i in vals:\n",
        "        trans_encoder = TransactionEncoder() # Instanciate the encoder\n",
        "        trans_encoder_matrix = trans_encoder.fit(i).transform(i)\n",
        "        trans_encoder_matrix = pd.DataFrame(trans_encoder_matrix, columns=trans_encoder.columns_)\n",
        "        res=fpgrowth(trans_encoder_matrix,min_support=0.0000001, use_colnames=True)\n",
        "        support = []\n",
        "        item_set = []\n",
        "        item_dict = {}\n",
        "        for i in res.index:\n",
        "          support.append(float(res['support'][i]))\n",
        "          item_set.append(list(res['itemsets'][i]))\n",
        "          item_dict[support[-1]]=item_set[-1]\n",
        "        yield item, item_dict      \n",
        "\n",
        "    def mapper_init_2(self):\n",
        "      self.l=[]\n",
        "\n",
        "    def mapper_2(self,item,vals):\n",
        "      for i in vals:\n",
        "        heap.heappush(self.l,(float(i),vals[i]))\n",
        "        if(len(self.l)>100):\n",
        "          heap.heappop(self.l)\n",
        "    \n",
        "    def mapper_final_2(self):\n",
        "      for i in self.l:\n",
        "        yield None, i\n",
        "\n",
        "    def reducer_init_2(self):\n",
        "        self.l=[]\n",
        "\n",
        "    def reducer_2(self,item,vals):\n",
        "      l1=self.l\n",
        "      for i in vals:\n",
        "        heap.heappush(l1,i)\n",
        "        if(len(l1)>100):\n",
        "          heap.heappop(l1)\n",
        "    \n",
        "    def reducer_final_2(self):\n",
        "      self.l.sort(reverse=True)\n",
        "      for i in self.l:\n",
        "        yield  None,(i[0], i[1])\n",
        "\n",
        "    def mapper_init_3(self):\n",
        "      self.l=[]\n",
        "\n",
        "    def mapper_3(self,item,vals):\n",
        "      for i in range(len(vals[1])):\n",
        "        yield vals[1][i], vals\n",
        "\n",
        "    def reducer_init_3(self):\n",
        "        self.l=[]\n",
        "\n",
        "    def reducer_3(self,item,vals):\n",
        "      for i in vals:\n",
        "        heap.heappush(self.l,(float(i[0]),i[1]))\n",
        "        if(len(self.l)>100 or self.l[0][0]<(float(i[0]))):\n",
        "          heap.heappop(self.l)\n",
        "\n",
        "    def reducer_final_3(self):\n",
        "      self.l.sort(reverse = True)\n",
        "      for i in self.l:\n",
        "        yield  None,(i[0], i[1])\n",
        "\n",
        "    def reducer_init_4(self):\n",
        "        self.l=[]\n",
        "\n",
        "    def reducer_4(self,item,vals):\n",
        "      for i in vals:\n",
        "        heap.heappush(self.l,(float(i[0]),i[1]))\n",
        "        if(len(self.l)>50 or self.l[0][0]<(float(i[0]))):\n",
        "          heap.heappop(self.l)\n",
        "\n",
        "    def reducer_final_4(self):\n",
        "      self.l.sort(reverse = True)\n",
        "      for i in self.l:\n",
        "        yield  None,(i[0], i[1])\n",
        "\n",
        "\n",
        "    def steps(self):\n",
        "        return [\n",
        "            MRStep(mapper_init=self.mapper_init,mapper=self.mapper,reducer=self.reducer),\n",
        "            MRStep(reducer=self.reducer_1),\n",
        "            MRStep(mapper_init=self.mapper_init_2,mapper = self.mapper_2,mapper_final = self.mapper_final_2,reducer_init=self.reducer_init_2,reducer = self.reducer_2,reducer_final=self.reducer_final_2),\n",
        "            MRStep(mapper_init=self.mapper_init_3,mapper = self.mapper_3,reducer_init=self.reducer_init_3,reducer = self.reducer_3,reducer_final = self.reducer_final_3),\n",
        "            MRStep(reducer_init=self.reducer_init_4,reducer = self.reducer_4,reducer_final = self.reducer_final_4)\n",
        "        ]\n",
        "\n",
        "if __name__ == '__main__':\n",
        "    ParallelFP.run()"
      ],
      "metadata": {
        "id": "EAjen4s_EpUf",
        "colab": {
          "base_uri": "https://localhost:8080/"
        },
        "outputId": "29d058fe-f2f2-4495-ecc7-bacf13fc1af8"
      },
      "execution_count": 14,
      "outputs": [
        {
          "output_type": "stream",
          "name": "stdout",
          "text": [
            "Overwriting parallel_fp.py\n"
          ]
        }
      ]
    },
    {
      "cell_type": "code",
      "source": [
        "!python parallel_fp.py \"/content/drive/My Drive/datasets/Transactions.csv\""
      ],
      "metadata": {
        "colab": {
          "base_uri": "https://localhost:8080/"
        },
        "id": "YFAIA9njnCiR",
        "outputId": "138a14a6-3e0a-4d7b-9fe3-5e4260030201"
      },
      "execution_count": 15,
      "outputs": [
        {
          "output_type": "stream",
          "name": "stdout",
          "text": [
            "No configs found; falling back on auto-configuration\n",
            "No configs specified for inline runner\n",
            "Creating temp directory /tmp/parallel_fp.root.20221218.084451.322872\n",
            "Running step 1 of 5...\n",
            "Running step 2 of 5...\n",
            "Running step 3 of 5...\n",
            "Running step 4 of 5...\n",
            "Running step 5 of 5...\n",
            "job output is in /tmp/parallel_fp.root.20221218.084451.322872/output\n",
            "Streaming final output from /tmp/parallel_fp.root.20221218.084451.322872/output...\n",
            "null\t[1.0, [\"other vegetables\"]]\n",
            "null\t[0.5174574753804835, [\"domestic eggs\"]]\n",
            "null\t[0.5141592920353982, [\"frankfurter\"]]\n",
            "null\t[0.492831541218638, [\"long life bakery product\"]]\n",
            "null\t[0.4091279543602282, [\"margarine\"]]\n",
            "null\t[0.39341085271317827, [\"newspapers\"]]\n",
            "null\t[0.36774193548387096, [\"ice cream\"]]\n",
            "null\t[0.34516129032258064, [\"hygiene articles\"]]\n",
            "null\t[0.25257731958762886, [\"fruit/vegetable juice\"]]\n",
            "null\t[0.22831858407079647, [\"frozen meals\"]]\n",
            "null\t[0.2248062015503876, [\"napkins\"]]\n",
            "null\t[0.21087160262417995, [\"frozen vegetables\"]]\n",
            "null\t[0.2078239608801956, [\"meat\"]]\n",
            "null\t[0.2013039934800326, [\"misc. beverages\"]]\n",
            "null\t[0.2009043927648579, [\"onions\"]]\n",
            "null\t[0.1881720430107527, [\"liquor\"]]\n",
            "null\t[0.15510777881911902, [\"hamburger meat\"]]\n",
            "null\t[0.14857881136950904, [\"oil\"]]\n",
            "null\t[0.13339301700984782, [\"flour\"]]\n",
            "null\t[0.12444046553267682, [\"dishes\"]]\n",
            "null\t[0.12186379928315412, [\"liquor (appetizer)\"]]\n",
            "null\t[0.11996251171508904, [\"ham\"]]\n",
            "null\t[0.10918462980318651, [\"hard cheese\"]]\n",
            "null\t[0.10731021555763824, [\"grapes\"]]\n",
            "null\t[0.1, [\"instant coffee\"]]\n",
            "null\t[0.09380530973451327, [\"frozen fish\"]]\n",
            "null\t[0.0913978494623656, [\"liver loaf\"]]\n",
            "null\t[0.08672566371681416, [\"frozen dessert\"]]\n",
            "null\t[0.07660961695191525, [\"mustard\"]]\n",
            "null\t[0.06714413607878246, [\"flower (seeds)\"]]\n",
            "null\t[0.06438467807660962, [\"mayonnaise\"]]\n",
            "null\t[0.06266786034019696, [\"dog food\"]]\n",
            "null\t[0.05729632945389436, [\"finished products\"]]\n",
            "null\t[0.03670546105640107, [\"female sanitary products\"]]\n",
            "null\t[0.025962399283795883, [\"fish\"]]\n",
            "null\t[0.01504424778761062, [\"flower soil/fertilizer\"]]\n",
            "null\t[0.009734513274336283, [\"frozen fruits\"]]\n",
            "null\t[0.005309734513274336, [\"frankfurter\", \"frozen meals\"]]\n",
            "Removing temp directory /tmp/parallel_fp.root.20221218.084451.322872...\n"
          ]
        }
      ]
    },
    {
      "cell_type": "code",
      "source": [],
      "metadata": {
        "id": "L9ocaPUJoDvW"
      },
      "execution_count": null,
      "outputs": []
    }
  ]
}